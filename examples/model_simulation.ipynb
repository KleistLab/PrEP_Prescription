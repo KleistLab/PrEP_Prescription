{
 "cells": [
  {
   "cell_type": "code",
   "execution_count": 1,
   "id": "39aaf78e-8a14-48d9-b76b-367491ec5cae",
   "metadata": {
    "tags": []
   },
   "outputs": [],
   "source": [
    "import pandas as pd\n",
    "\n",
    "from src import DATA_PATH"
   ]
  },
  {
   "cell_type": "code",
   "execution_count": 2,
   "id": "059885dc-aa7b-462f-bb64-a1d9b05141de",
   "metadata": {
    "tags": []
   },
   "outputs": [
    {
     "data": {
      "text/html": [
       "<div>\n",
       "<style scoped>\n",
       "    .dataframe tbody tr th:only-of-type {\n",
       "        vertical-align: middle;\n",
       "    }\n",
       "\n",
       "    .dataframe tbody tr th {\n",
       "        vertical-align: top;\n",
       "    }\n",
       "\n",
       "    .dataframe thead th {\n",
       "        text-align: right;\n",
       "    }\n",
       "</style>\n",
       "<table border=\"1\" class=\"dataframe\">\n",
       "  <thead>\n",
       "    <tr style=\"text-align: right;\">\n",
       "      <th></th>\n",
       "      <th>state</th>\n",
       "      <th>sim_endpoints</th>\n",
       "      <th>sim_t_step</th>\n",
       "      <th>f_art0</th>\n",
       "      <th>f_art1</th>\n",
       "      <th>f_art2</th>\n",
       "      <th>f_art3</th>\n",
       "      <th>f_art4</th>\n",
       "      <th>f_art5</th>\n",
       "      <th>f_art6</th>\n",
       "      <th>...</th>\n",
       "      <th>k_prep4</th>\n",
       "      <th>k_prep5</th>\n",
       "      <th>k_prep6</th>\n",
       "      <th>n_msm0</th>\n",
       "      <th>n_msm1</th>\n",
       "      <th>n_msm2</th>\n",
       "      <th>n_msm3</th>\n",
       "      <th>n_msm4</th>\n",
       "      <th>n_msm5</th>\n",
       "      <th>n_msm6</th>\n",
       "    </tr>\n",
       "  </thead>\n",
       "  <tbody>\n",
       "    <tr>\n",
       "      <th>1</th>\n",
       "      <td>Bayern</td>\n",
       "      <td>[972, 1063, 1185, 1276, 1429, 1519, 1826]</td>\n",
       "      <td>1</td>\n",
       "      <td>1345.49168</td>\n",
       "      <td>926.192566</td>\n",
       "      <td>894.371182</td>\n",
       "      <td>853.418207</td>\n",
       "      <td>824.097146</td>\n",
       "      <td>777.052063</td>\n",
       "      <td>750.643063</td>\n",
       "      <td>...</td>\n",
       "      <td>0.000448</td>\n",
       "      <td>-0.000172</td>\n",
       "      <td>0.000309</td>\n",
       "      <td>10744</td>\n",
       "      <td>10744</td>\n",
       "      <td>10744</td>\n",
       "      <td>10744</td>\n",
       "      <td>10744</td>\n",
       "      <td>10744</td>\n",
       "      <td>10744</td>\n",
       "    </tr>\n",
       "  </tbody>\n",
       "</table>\n",
       "<p>1 rows × 38 columns</p>\n",
       "</div>"
      ],
      "text/plain": [
       "    state                              sim_endpoints  sim_t_step      f_art0  \\\n",
       "1  Bayern  [972, 1063, 1185, 1276, 1429, 1519, 1826]           1  1345.49168   \n",
       "\n",
       "       f_art1      f_art2      f_art3      f_art4      f_art5      f_art6  \\\n",
       "1  926.192566  894.371182  853.418207  824.097146  777.052063  750.643063   \n",
       "\n",
       "   ...   k_prep4   k_prep5   k_prep6  n_msm0  n_msm1  n_msm2  n_msm3  n_msm4  \\\n",
       "1  ...  0.000448 -0.000172  0.000309   10744   10744   10744   10744   10744   \n",
       "\n",
       "   n_msm5  n_msm6  \n",
       "1   10744   10744  \n",
       "\n",
       "[1 rows x 38 columns]"
      ]
     },
     "execution_count": 2,
     "metadata": {},
     "output_type": "execute_result"
    }
   ],
   "source": [
    "# Read some file containing model parameters and filter for a federal state\n",
    "df_parameters = pd.read_csv(DATA_PATH / 'model_parameters.tsv', sep='\\t')\n",
    "df_parameters = df_parameters[df_parameters.state == 'Bayern']\n",
    "df_parameters"
   ]
  },
  {
   "cell_type": "markdown",
   "id": "de036038-9a12-45be-a5a7-1dd480ec6bce",
   "metadata": {},
   "source": [
    "### Model() class\n",
    "The `Model()` class is a simple class, receiving a function, i.e. the mathematical model, as well as a list of parameter IDs and function IDs. Make sure, that the IDs are in the same order as they are read by the model.\n",
    "\n",
    "Instead of defining your own model, you can just import the PrEP Model: `from src.models import prep_model`\n",
    "\n",
    "However, for demonstration purposes we will build the model from scratch."
   ]
  },
  {
   "cell_type": "code",
   "execution_count": 3,
   "id": "100a0669-0694-4b1d-8260-8cdd37db7ac9",
   "metadata": {
    "tags": []
   },
   "outputs": [],
   "source": [
    "from src.models import Model\n",
    "\n",
    "c_intermitted = 0.189 / 0.58 + 0.811 / 0.91\n",
    "c_shi = 1 / 0.895\n",
    "\n",
    "def model(t, y, p):\n",
    "    y_art, y_prep = y\n",
    "    k_art, k_prep, n_msm = p\n",
    "    f_art = k_art * y_art\n",
    "    f_prep = k_prep * (n_msm - c_intermitted * c_shi * y_prep)\n",
    "    return f_art, f_prep\n",
    "\n",
    "f_ids = ['f_art', 'f_prep']\n",
    "p_ids = ['k_art', 'k_prep', 'n_msm']\n",
    "prep_model = Model(model, fids=f_ids, pids=p_ids)"
   ]
  },
  {
   "cell_type": "markdown",
   "id": "089d01bf-caf9-4cdc-9b04-e195bf99e8b3",
   "metadata": {},
   "source": [
    "The simulator class is capable of running multiple successive simulations, using different parameter and initial values in each simulation. In the end, all simulations are merged into a single time-course.\n",
    "\n",
    "The class offers two different functions to simulate:\n",
    "* simulate(): Each simulation uses initial values passed to the function. \n",
    "* simulate_continuous(): Only the first simulation uses the initial value passed to the function. All subsequent simulations  use the last value from the previous simulation as their initial value.\n",
    "\n",
    "Both functions expect the same arguments:\n",
    "* `endpoints`: List of integers, containing the endpoint of each simulation.\\\n",
    "    *E.g. [100, 150, 300] -> The first simulation runs from t=0 to t=100, the second from t=101 to t=150 and the third from t=151 to t=300*\n",
    "* `t_step`: Integer. Step size\n",
    "* `parameters`: 2D array, containing parameter sets for each simulation. Parameters must be in the same order as defined in the model object.\n",
    "* `y0`: 2D array, containing initial values for each simulation.\\\n",
    "    *Note: `simulate_continuous` only uses the first array"
   ]
  },
  {
   "cell_type": "code",
   "execution_count": 4,
   "id": "07159061-d1be-4199-9911-8b6afdb02342",
   "metadata": {
    "tags": []
   },
   "outputs": [
    {
     "name": "stdout",
     "output_type": "stream",
     "text": [
      "endpoints: [972, 1063, 1185, 1276, 1429, 1519, 1826]\n",
      "\n",
      "parameters ([[<k_art, k_prep, n_msm>], ...]):\n",
      "[[-0.0003841899656764, 0, 10744],\n",
      " [-0.0003841899656764, 0.0016008888337117, 10744],\n",
      " [-0.0003841899656764, -0.000183613708653, 10744],\n",
      " [-0.0003841899656764, 4.6039910324270965e-08, 10744],\n",
      " [-0.0003841899656764, 0.0004482630072247, 10744],\n",
      " [-0.0003841899656764, -0.0001723313861337, 10744],\n",
      " [-0.0003841899656764, 0.0003093489281485, 10744]]\n",
      "\n",
      "y0 ([[<f_art, f_prep>], ...]):\n",
      "[[1345.4916798093575, 0.0],\n",
      " [926.192566332317, 0.0],\n",
      " [894.3711817797828, 1419.909140014262],\n",
      " [853.4182071301542, 1219.449681059438],\n",
      " [824.0971458947173, 1219.4877467911854],\n",
      " [777.0520633470854, 1814.4461992967947],\n",
      " [750.6430632366609, 1684.7140622878933]]\n"
     ]
    }
   ],
   "source": [
    "from src.optimization.simulate import Simulator\n",
    "\n",
    "# initialize Simulator()\n",
    "sim = Simulator(prep_model)\n",
    "\n",
    "# simulation endpoints are stored as a string in the dataframe. Convert it to a list\n",
    "sim_endpoints = [int(i) for i in df_parameters.sim_endpoints.values[0][1:-1].split(',')]   # convert string to list\n",
    "t_step = df_parameters['sim_t_step'].values[0]\n",
    "\n",
    "# build parameter and y0 arrays\n",
    "p = []\n",
    "y0 = []\n",
    "for k, _ in enumerate(sim_endpoints):\n",
    "    p.append([df_parameters[f\"{pid}{k}\"].values[0] for pid in p_ids])\n",
    "    y0.append([df_parameters[f\"{fid}{k}\"].values[0] for fid in f_ids])\n",
    "    \n",
    "from pprint import pprint\n",
    "print(f\"endpoints: {sim_endpoints}\")\n",
    "print(\"\\nparameters ([[<k_art, k_prep, n_msm>], ...]):\")\n",
    "pprint(p)\n",
    "print(\"\\ny0 ([[<f_art, f_prep>], ...]):\")\n",
    "pprint(y0)\n",
    "    "
   ]
  },
  {
   "cell_type": "code",
   "execution_count": 6,
   "id": "e024ca98-fe3e-4912-8774-3592fb2f441b",
   "metadata": {
    "tags": []
   },
   "outputs": [
    {
     "data": {
      "text/plain": [
       "array([[1345.49167981, 1344.97485469, 1344.4582281 , ...,  667.64214415,\n",
       "         667.385692  ,  667.12933837],\n",
       "       [   0.        ,    0.        ,    0.        , ..., 2433.22453935,\n",
       "        2435.52411616, 2437.82272583]])"
      ]
     },
     "execution_count": 6,
     "metadata": {},
     "output_type": "execute_result"
    }
   ],
   "source": [
    "sim_results = sim.simulate_continuous(endpoints=sim_endpoints, t_step=t_step, parameters=p, y0=y0)\n",
    "sim_results.t    # x-values (time)\n",
    "sim_results.y    # y-values\n"
   ]
  }
 ],
 "metadata": {
  "kernelspec": {
   "display_name": "Python 3 (ipykernel)",
   "language": "python",
   "name": "python3"
  },
  "language_info": {
   "codemirror_mode": {
    "name": "ipython",
    "version": 3
   },
   "file_extension": ".py",
   "mimetype": "text/x-python",
   "name": "python",
   "nbconvert_exporter": "python",
   "pygments_lexer": "ipython3",
   "version": "3.9.12"
  }
 },
 "nbformat": 4,
 "nbformat_minor": 5
}
